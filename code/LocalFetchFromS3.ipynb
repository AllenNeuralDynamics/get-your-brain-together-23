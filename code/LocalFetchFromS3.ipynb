{
 "cells": [
  {
   "cell_type": "markdown",
   "id": "24fbe7a2",
   "metadata": {},
   "source": [
    "# Fetch SmartSPIM Data From S3\n",
    "\n",
    "In this notebook we demonstrate how to fetch SmartSPIM data from the \"aind-open-data\" AWS S3 bucket outside of CodeOcean. The notebook is intended as a companion to the \"RegisterToCCF\" notebook which assumes that data is available via the mounted filesystem in the CodeOcean cloud platform. Note that metadata on the output image should be set carefully, refer to the \"RegisterToCCF\" notebook on metadata considerations for SmartSPIM input images.\n",
    "\n",
    "SmartSPIM sample data is made publicly available by the Allen Institute for Neural Dynamics."
   ]
  },
  {
   "cell_type": "markdown",
   "id": "d06e2f77",
   "metadata": {},
   "source": [
    "# Initialize the Notebook"
   ]
  },
  {
   "cell_type": "code",
   "execution_count": 1,
   "id": "8126d61d",
   "metadata": {
    "tags": []
   },
   "outputs": [],
   "source": [
    "import re\n",
    "\n",
    "import itk\n",
    "import ome_zarr\n",
    "from ome_zarr.reader import Reader as OMEZarrReader\n",
    "from ome_zarr.io import ZarrLocation\n",
    "import numpy as np\n",
    "import sys\n",
    "import s3fs\n",
    "import zarr"
   ]
  },
  {
   "cell_type": "code",
   "execution_count": 2,
   "id": "5aeb42b6",
   "metadata": {
    "tags": []
   },
   "outputs": [],
   "source": [
    "SOURCE_BUCKET_NAME = \"aind-open-data\"\n",
    "SAMPLE_ID = \"631680\"\n",
    "SAMPLE_CHANNEL = \"Ex_647_Em_690\"\n",
    "\n",
    "SMARTSPIM_OUTPUT_FILENAME = f\"../results/{SAMPLE_ID}_{SAMPLE_CHANNEL}.nii.gz\""
   ]
  },
  {
   "cell_type": "code",
   "execution_count": 3,
   "id": "851c8918-eea1-408c-b26f-ac00499caeae",
   "metadata": {
    "tags": []
   },
   "outputs": [],
   "source": [
    "%mkdir -p ../results"
   ]
  },
  {
   "cell_type": "markdown",
   "id": "c6d5cb9d",
   "metadata": {},
   "source": [
    "## Query AWS S3 For Available Data\n",
    "\n",
    "The first step in fetching data is knowing what data is available to fetch. AIND has made SmartSPIM sample data available in multiscale OME-Zarr format on AWS S3.\n",
    "\n",
    "AIND has used several naming conventions in its data:\n",
    " - \"aind-open-data\": The AIND public S3 bucket where data is stored\n",
    " - \"SmartSPIM_\\<id>_\\<date>_stitched_\\<date>\": Organize data by collection/stitching date\n",
    " - \"processed/OMEZarr\": working with processed data in OME-Zarr format\n",
    " - \"Ex_\\<num>_Em_\\<num>.zarr\": Organize data by excitation/emission metrics for imaging\n",
    " \n",
    "Naming conventions are subject to change in the future."
   ]
  },
  {
   "cell_type": "code",
   "execution_count": 4,
   "id": "0bc85f3c",
   "metadata": {
    "tags": []
   },
   "outputs": [],
   "source": [
    "fs = s3fs.S3FileSystem(anon=True)"
   ]
  },
  {
   "cell_type": "code",
   "execution_count": 5,
   "id": "ecf372af",
   "metadata": {
    "tags": []
   },
   "outputs": [
    {
     "name": "stdout",
     "output_type": "stream",
     "text": [
      "548 buckets available at s3://aind-open-data/\n",
      "aind-open-data/SmartSPIM_000393_2023-01-06_13-35-10\n",
      "aind-open-data/SmartSPIM_000393_2023-01-06_13-35-10_stitched_2023-02-02_22-28-35\n",
      "aind-open-data/SmartSPIM_000394_2023-01-05_14-56-34\n",
      "aind-open-data/SmartSPIM_000394_2023-01-05_14-56-34_stitched_2023-02-20_19-47-09\n",
      "aind-open-data/SmartSPIM_018559_2023-01-10_10-40-57\n",
      "...\n"
     ]
    }
   ],
   "source": [
    "# Get all available samples\n",
    "available_sample_buckets = fs.ls(SOURCE_BUCKET_NAME)\n",
    "print(f\"{len(available_sample_buckets)} buckets available at s3://aind-open-data/\")\n",
    "\n",
    "available_sample_buckets_iter = iter(available_sample_buckets)\n",
    "for _ in range(5):\n",
    "    print(next(available_sample_buckets_iter))\n",
    "print(\"...\")"
   ]
  },
  {
   "cell_type": "code",
   "execution_count": 6,
   "id": "c9e2ff53",
   "metadata": {
    "tags": []
   },
   "outputs": [
    {
     "name": "stdout",
     "output_type": "stream",
     "text": [
      "Selected sample bucket: aind-open-data/SmartSPIM_631680_2022-09-09_13-52-33_stitched_2022-11-10_17-18-18\n"
     ]
    }
   ],
   "source": [
    "# Find the sample bucket of interest\n",
    "sample_bucket_name = next(\n",
    "    bucket_name\n",
    "    for bucket_name in fs.ls(SOURCE_BUCKET_NAME)\n",
    "    if re.match(f\"(.+){SAMPLE_ID}(.+)stitched(.+)\", bucket_name)\n",
    ")\n",
    "\n",
    "print(f\"Selected sample bucket: {sample_bucket_name}\")"
   ]
  },
  {
   "cell_type": "code",
   "execution_count": 7,
   "id": "621139f2",
   "metadata": {
    "tags": []
   },
   "outputs": [
    {
     "name": "stdout",
     "output_type": "stream",
     "text": [
      "Available channels at aind-open-data/SmartSPIM_631680_2022-09-09_13-52-33_stitched_2022-11-10_17-18-18/processed/OMEZarr:\n"
     ]
    },
    {
     "data": {
      "text/plain": [
       "['aind-open-data/SmartSPIM_631680_2022-09-09_13-52-33_stitched_2022-11-10_17-18-18/processed/OMEZarr/.zgroup',\n",
       " 'aind-open-data/SmartSPIM_631680_2022-09-09_13-52-33_stitched_2022-11-10_17-18-18/processed/OMEZarr/Ex_488_Em_525.zarr',\n",
       " 'aind-open-data/SmartSPIM_631680_2022-09-09_13-52-33_stitched_2022-11-10_17-18-18/processed/OMEZarr/Ex_561_Em_600.zarr',\n",
       " 'aind-open-data/SmartSPIM_631680_2022-09-09_13-52-33_stitched_2022-11-10_17-18-18/processed/OMEZarr/Ex_647_Em_690.zarr']"
      ]
     },
     "execution_count": 7,
     "metadata": {},
     "output_type": "execute_result"
    }
   ],
   "source": [
    "# View available sample channels\n",
    "sample_bucket_channels_name = sample_bucket_name + \"/processed/OMEZarr\"\n",
    "print(f\"Available channels at {sample_bucket_channels_name}:\")\n",
    "fs.ls(sample_bucket_channels_name)"
   ]
  },
  {
   "cell_type": "code",
   "execution_count": 8,
   "id": "db146915",
   "metadata": {
    "tags": []
   },
   "outputs": [
    {
     "name": "stdout",
     "output_type": "stream",
     "text": [
      "Channel bucket contents:\n"
     ]
    },
    {
     "data": {
      "text/plain": [
       "['aind-open-data/SmartSPIM_631680_2022-09-09_13-52-33_stitched_2022-11-10_17-18-18/processed/OMEZarr/Ex_647_Em_690.zarr/.zattrs',\n",
       " 'aind-open-data/SmartSPIM_631680_2022-09-09_13-52-33_stitched_2022-11-10_17-18-18/processed/OMEZarr/Ex_647_Em_690.zarr/.zgroup',\n",
       " 'aind-open-data/SmartSPIM_631680_2022-09-09_13-52-33_stitched_2022-11-10_17-18-18/processed/OMEZarr/Ex_647_Em_690.zarr/0',\n",
       " 'aind-open-data/SmartSPIM_631680_2022-09-09_13-52-33_stitched_2022-11-10_17-18-18/processed/OMEZarr/Ex_647_Em_690.zarr/1',\n",
       " 'aind-open-data/SmartSPIM_631680_2022-09-09_13-52-33_stitched_2022-11-10_17-18-18/processed/OMEZarr/Ex_647_Em_690.zarr/2',\n",
       " 'aind-open-data/SmartSPIM_631680_2022-09-09_13-52-33_stitched_2022-11-10_17-18-18/processed/OMEZarr/Ex_647_Em_690.zarr/3',\n",
       " 'aind-open-data/SmartSPIM_631680_2022-09-09_13-52-33_stitched_2022-11-10_17-18-18/processed/OMEZarr/Ex_647_Em_690.zarr/4']"
      ]
     },
     "execution_count": 8,
     "metadata": {},
     "output_type": "execute_result"
    }
   ],
   "source": [
    "# Select the channel of interest\n",
    "channel_bucket = sample_bucket_channels_name + f\"/{SAMPLE_CHANNEL}.zarr\"\n",
    "print(f\"Channel bucket contents:\")\n",
    "fs.ls(channel_bucket)"
   ]
  },
  {
   "cell_type": "markdown",
   "id": "4452881d",
   "metadata": {},
   "source": [
    "## Read Metadata from AWS S3"
   ]
  },
  {
   "cell_type": "code",
   "execution_count": 9,
   "id": "5fdec263",
   "metadata": {
    "tags": []
   },
   "outputs": [
    {
     "name": "stdout",
     "output_type": "stream",
     "text": [
      "{\n",
      "    \"multiscales\": [\n",
      "        {\n",
      "            \"axes\": [\n",
      "                {\n",
      "                    \"name\": \"t\",\n",
      "                    \"type\": \"time\",\n",
      "                    \"unit\": \"millisecond\"\n",
      "                },\n",
      "                {\n",
      "                    \"name\": \"c\",\n",
      "                    \"type\": \"channel\"\n",
      "                },\n",
      "                {\n",
      "                    \"name\": \"z\",\n",
      "                    \"type\": \"space\",\n",
      "                    \"unit\": \"micrometer\"\n",
      "                },\n",
      "                {\n",
      "                    \"name\": \"y\",\n",
      "                    \"type\": \"space\",\n",
      "                    \"unit\": \"micrometer\"\n",
      "                },\n",
      "                {\n",
      "                    \"name\": \"x\",\n",
      "                    \"type\": \"space\",\n",
      "                    \"unit\": \"micrometer\"\n",
      "                }\n",
      "            ],\n",
      "            \"datasets\": [\n",
      "                {\n",
      "                    \"coordinateTransformations\": [\n",
      "                        {\n",
      "                            \"scale\": [\n",
      "                                1.0,\n",
      "                                1.0,\n",
      "                                2.0,\n",
      "                                1.8,\n",
      "                                1.8\n",
      "                            ],\n",
      "                            \"type\": \"scale\"\n",
      "                        }\n",
      "                    ],\n",
      "                    \"path\": \"0\"\n",
      "                },\n",
      "                {\n",
      "                    \"coordinateTransformations\": [\n",
      "                        {\n",
      "                            \"scale\": [\n",
      "                                1.0,\n",
      "                                1.0,\n",
      "                                4.0,\n",
      "                                3.6,\n",
      "                                3.6\n",
      "                            ],\n",
      "                            \"type\": \"scale\"\n",
      "                        }\n",
      "                    ],\n",
      "                    \"path\": \"1\"\n",
      "                },\n",
      "                {\n",
      "                    \"coordinateTransformations\": [\n",
      "                        {\n",
      "                            \"scale\": [\n",
      "                                1.0,\n",
      "                                1.0,\n",
      "                                8.0,\n",
      "                                7.2,\n",
      "                                7.2\n",
      "                            ],\n",
      "                            \"type\": \"scale\"\n",
      "                        }\n",
      "                    ],\n",
      "                    \"path\": \"2\"\n",
      "                },\n",
      "                {\n",
      "                    \"coordinateTransformations\": [\n",
      "                        {\n",
      "                            \"scale\": [\n",
      "                                1.0,\n",
      "                                1.0,\n",
      "                                16.0,\n",
      "                                14.4,\n",
      "                                14.4\n",
      "                            ],\n",
      "                            \"type\": \"scale\"\n",
      "                        }\n",
      "                    ],\n",
      "                    \"path\": \"3\"\n",
      "                },\n",
      "                {\n",
      "                    \"coordinateTransformations\": [\n",
      "                        {\n",
      "                            \"scale\": [\n",
      "                                1.0,\n",
      "                                1.0,\n",
      "                                32.0,\n",
      "                                28.8,\n",
      "                                28.8\n",
      "                            ],\n",
      "                            \"type\": \"scale\"\n",
      "                        }\n",
      "                    ],\n",
      "                    \"path\": \"4\"\n",
      "                }\n",
      "            ],\n",
      "            \"metadata\": {\n",
      "                \"args\": \"[false]\",\n",
      "                \"description\": \"Downscaling implementation based on the windowed mean of the original array\",\n",
      "                \"kwargs\": {},\n",
      "                \"method\": \"xarray_multiscale.reducers.windowed_mean\",\n",
      "                \"version\": \"0.2.2\"\n",
      "            },\n",
      "            \"name\": \"/Ex_647_Em_690.zarr\",\n",
      "            \"version\": \"0.4\"\n",
      "        }\n",
      "    ],\n",
      "    \"omero\": {\n",
      "        \"channels\": [\n",
      "            {\n",
      "                \"active\": true,\n",
      "                \"coefficient\": 1,\n",
      "                \"color\": \"ff00ff\",\n",
      "                \"family\": \"linear\",\n",
      "                \"inverted\": false,\n",
      "                \"label\": \"Ex_647_Em_690\",\n",
      "                \"window\": {\n",
      "                    \"end\": 1.0,\n",
      "                    \"max\": 1.0,\n",
      "                    \"min\": 0.0,\n",
      "                    \"start\": 0.0\n",
      "                }\n",
      "            }\n",
      "        ],\n",
      "        \"id\": 1,\n",
      "        \"name\": \"Ex_647_Em_690.zarr\",\n",
      "        \"rdefs\": {\n",
      "            \"defaultT\": 0,\n",
      "            \"defaultZ\": 2100,\n",
      "            \"model\": \"color\"\n",
      "        },\n",
      "        \"version\": \"0.4\"\n",
      "    }\n",
      "}\n"
     ]
    }
   ],
   "source": [
    "# View OME-Zarr attributes for the sample channel\n",
    "with fs.open(channel_bucket + \"/.zattrs\", \"r\") as f:\n",
    "    print(f.read())"
   ]
  },
  {
   "cell_type": "markdown",
   "id": "d9587bb5",
   "metadata": {},
   "source": [
    "## Read Zarr Voxel Data From S3\n",
    "\n",
    "We use build-in S3 support with `zarr.io` methods to fetch voxel data and convert to ITK format. Note that the image here is read in with incomplete metadata. Refer to \"RegisterToCCF\" for proper metadata handling."
   ]
  },
  {
   "cell_type": "code",
   "execution_count": 10,
   "id": "9aba457a",
   "metadata": {
    "tags": []
   },
   "outputs": [
    {
     "data": {
      "text/html": [
       "<table class=\"zarr-info\"><tbody><tr><th style=\"text-align: left\">Name</th><td style=\"text-align: left\">/</td></tr><tr><th style=\"text-align: left\">Type</th><td style=\"text-align: left\">zarr.hierarchy.Group</td></tr><tr><th style=\"text-align: left\">Read-only</th><td style=\"text-align: left\">False</td></tr><tr><th style=\"text-align: left\">Store type</th><td style=\"text-align: left\">zarr.storage.LRUStoreCache</td></tr><tr><th style=\"text-align: left\">No. members</th><td style=\"text-align: left\">5</td></tr><tr><th style=\"text-align: left\">No. arrays</th><td style=\"text-align: left\">5</td></tr><tr><th style=\"text-align: left\">No. groups</th><td style=\"text-align: left\">0</td></tr><tr><th style=\"text-align: left\">Arrays</th><td style=\"text-align: left\">0, 1, 2, 3, 4</td></tr></tbody></table>"
      ],
      "text/plain": [
       "Name        : /\n",
       "Type        : zarr.hierarchy.Group\n",
       "Read-only   : False\n",
       "Store type  : zarr.storage.LRUStoreCache\n",
       "No. members : 5\n",
       "No. arrays  : 5\n",
       "No. groups  : 0\n",
       "Arrays      : 0, 1, 2, 3, 4"
      ]
     },
     "execution_count": 10,
     "metadata": {},
     "output_type": "execute_result"
    }
   ],
   "source": [
    "# Use zarr S3 support to read store\n",
    "store = s3fs.S3Map(root=channel_bucket, s3=fs, check=False)\n",
    "cache = zarr.LRUStoreCache(store, max_size=2**28)\n",
    "root = zarr.group(store=cache)\n",
    "\n",
    "root.info"
   ]
  },
  {
   "cell_type": "code",
   "execution_count": 11,
   "id": "71a90939",
   "metadata": {
    "tags": []
   },
   "outputs": [],
   "source": [
    "voxel_array = np.squeeze(np.asarray(root[4]))\n",
    "itk_image = itk.image_view_from_array(voxel_array.astype(np.float32))"
   ]
  },
  {
   "cell_type": "code",
   "execution_count": 12,
   "id": "9f8055ac-e6ab-4581-b40f-e134c3ad53de",
   "metadata": {
    "tags": []
   },
   "outputs": [
    {
     "name": "stdout",
     "output_type": "stream",
     "text": [
      "Image (0x55eeaad16f40)\n",
      "  RTTI typeinfo:   itk::Image<float, 3u>\n",
      "  Reference Count: 2\n",
      "  Modified Time: 96\n",
      "  Debug: Off\n",
      "  Object Name: \n",
      "  Observers: \n",
      "    none\n",
      "  Source: (none)\n",
      "  Source output name: (none)\n",
      "  Release Data: Off\n",
      "  Data Released: False\n",
      "  Global Release Data: Off\n",
      "  PipelineMTime: 0\n",
      "  UpdateMTime: 0\n",
      "  RealTimeStamp: 0 seconds \n",
      "  LargestPossibleRegion: \n",
      "    Dimension: 3\n",
      "    Index: [0, 0, 0]\n",
      "    Size: [462, 640, 262]\n",
      "  BufferedRegion: \n",
      "    Dimension: 3\n",
      "    Index: [0, 0, 0]\n",
      "    Size: [462, 640, 262]\n",
      "  RequestedRegion: \n",
      "    Dimension: 3\n",
      "    Index: [0, 0, 0]\n",
      "    Size: [462, 640, 262]\n",
      "  Spacing: [0.0288, 0.0288, 0.032]\n",
      "  Origin: [13.2768, 18.4032, 8.352]\n",
      "  Direction: \n",
      "-1 0 0\n",
      "0 -1 0\n",
      "0 0 -1\n",
      "\n",
      "  IndexToPointMatrix: \n",
      "-0.0288 0 0\n",
      "0 -0.0288 0\n",
      "0 0 -0.032\n",
      "\n",
      "  PointToIndexMatrix: \n",
      "-34.7222 0 0\n",
      "0 -34.7222 0\n",
      "0 0 -31.25\n",
      "\n",
      "  Inverse Direction: \n",
      "-1 0 0\n",
      "0 -1 0\n",
      "0 0 -1\n",
      "\n",
      "  PixelContainer: \n",
      "    ImportImageContainer (0x55eeaac953d0)\n",
      "      RTTI typeinfo:   itk::ImportImageContainer<unsigned long, float>\n",
      "      Reference Count: 1\n",
      "      Modified Time: 2\n",
      "      Debug: Off\n",
      "      Object Name: \n",
      "      Observers: \n",
      "        none\n",
      "      Pointer: 0x7f031d87b010\n",
      "      Container manages memory: false\n",
      "      Size: 77468160\n",
      "      Capacity: 77468160\n",
      "\n"
     ]
    }
   ],
   "source": [
    "# Apply subsequent metadata as done in RegisterToCCF\n",
    "axis_spacings = {'x': 0.028800000000000003, 'y': 0.028800000000000003, 'z': 0.032}\n",
    "itk_spatial_axes = (\"x\", \"y\", \"z\")\n",
    "itk_image.SetSpacing([axis_spacings[axis_name] for axis_name in itk_spatial_axes])\n",
    "\n",
    "# Image orientation is derived from accompanying \"acquisition.json\" file\n",
    "\n",
    "# ITK is in \"right-to-left\", \"anterior-to-posterior\", \"inferior-to-superior\" (LPS) space.\n",
    "# \"acquisition.json\" for \"SmartSPIM_631680_2022-09-09_13-52-33\" shows voxel data uses same\n",
    "# axes order but inverted, i.e. \"left-to-right\", \"posterior-to-anterior\", \"superior-to-inferior\" (RAI).\n",
    "\n",
    "INPUT_COORDINATE_ORIENTATION = (\n",
    "    itk.SpatialOrientationEnums.ValidCoordinateOrientations_ITK_COORDINATE_ORIENTATION_RAI\n",
    ")\n",
    "\n",
    "orient_filter = itk.OrientImageFilter.New(itk_image)\n",
    "orient_filter.SetGivenCoordinateOrientation(INPUT_COORDINATE_ORIENTATION)\n",
    "orient_filter.SetDesiredCoordinateOrientation(\n",
    "    itk.SpatialOrientationEnums.ValidCoordinateOrientations_ITK_COORDINATE_ORIENTATION_LPS\n",
    ")\n",
    "orient_filter.UpdateOutputInformation()\n",
    "\n",
    "itk_image.CopyInformation(orient_filter.GetOutput())\n",
    "print(itk_image)"
   ]
  },
  {
   "cell_type": "code",
   "execution_count": 13,
   "id": "b00da9c2",
   "metadata": {
    "tags": []
   },
   "outputs": [],
   "source": [
    "itk.imwrite(itk_image, SMARTSPIM_OUTPUT_FILENAME, compression=True)"
   ]
  },
  {
   "cell_type": "code",
   "execution_count": null,
   "id": "b01e22d2-28d3-459b-a986-fc9bce40db2f",
   "metadata": {},
   "outputs": [],
   "source": []
  }
 ],
 "metadata": {
  "kernelspec": {
   "display_name": "Python 3 (ipykernel)",
   "language": "python",
   "name": "python3"
  },
  "language_info": {
   "codemirror_mode": {
    "name": "ipython",
    "version": 3
   },
   "file_extension": ".py",
   "mimetype": "text/x-python",
   "name": "python",
   "nbconvert_exporter": "python",
   "pygments_lexer": "ipython3",
   "version": "3.9.16"
  }
 },
 "nbformat": 4,
 "nbformat_minor": 5
}
