{
 "cells": [
  {
   "cell_type": "markdown",
   "id": "b2382152",
   "metadata": {},
   "source": [
    "# Demo: Transform a Point Set from SmartSPIM to CCF Space\n",
    "\n",
    "## Overview\n",
    "\n",
    "This notebook demonstrates how to apply the transformation results from the `RegisterToCCF` reproducible pipeline notebook to point set data initially in correspondence with the input SmartSPIM image. The notebook can be run interactively in CodeOcean.\n",
    "\n",
    "## Inputs\n",
    "\n",
    "1. Source point set. Source data is assumed to be in correspondence with the input SmartSPIM image used in the `RegisterToCCF` notebook.\n",
    "\n",
    "![Point annotations on SmartSPIM input image](images/point-set-annotation.png)\n",
    "\n",
    "2. Transform stack results from `RegisterToCCF` notebook. This is a sequence of transforms mapping from SmartSPIM sample space to CCF atlas$^1$ space produced by the SmartSPIM to CCF registration pipeline.\n",
    "\n",
    "3. CCF atlas defining reference space for transformation.\n",
    "\n",
    "## Outputs\n",
    "\n",
    "1. Source point set resampled into CCF space.\n",
    "\n",
    "## Assumptions\n",
    "\n",
    "1. Source data initially exists in spatial alignment with the original stitched SmartSPIM image input. This can be confirmed with a spatial viewer such as ITKWidgets, Neuroglancer, or 3D Slicer.\n",
    "\n",
    "2. The `RegisterToCCF` notebook previously ran and produced output in the `../results` directory.\n",
    "\n",
    "## Procedure\n",
    "\n",
    "1. Data is read in from their respective stores attached via CodeOcean's data attachment mechanism.\n",
    "\n",
    "2. An initial translation is applied to coarsely superimpose the source point set on the target image.\n",
    "\n",
    "3. Transforms from Elastix registration output are employed to register points into CCF space.\n",
    "\n",
    "4. Results are written out.\n",
    "\n",
    "## References\n",
    "\n",
    "1. Quanxin Wang, Song-Lin Ding, Yang Li, Josh Royall, David Feng, Phil Lesnar, Nile Graddis, Maitham Naeemi, Benjamin Facer, Anh Ho, Tim Dolbeare, Brandon Blanchard, Nick Dee, Wayne Wakeman, Karla E. Hirokawa, Aaron Szafer, Susan M. Sunkin, Seung Wook Oh, Amy Bernard, John W. Phillips, Michael Hawrylycz, Christof Koch, Hongkui Zeng, Julie A. Harris, Lydia Ng,\n",
    "The Allen Mouse Brain Common Coordinate Framework: A 3D Reference Atlas, Cell, Volume 181, Issue 4, 2020, Pages 936-953.e20, ISSN 0092-8674, https://doi.org/10.1016/j.cell.2020.04.007"
   ]
  },
  {
   "cell_type": "code",
   "execution_count": 1,
   "id": "96f3e0c8",
   "metadata": {},
   "outputs": [],
   "source": [
    "import os\n",
    "import json\n",
    "\n",
    "from tqdm import tqdm\n",
    "import numpy as np\n",
    "import itk\n",
    "\n",
    "itk.auto_progress(1)"
   ]
  },
  {
   "cell_type": "code",
   "execution_count": 2,
   "id": "8ec3eb41",
   "metadata": {},
   "outputs": [],
   "source": [
    "SOURCE_IMAGE_INPUT_FILEPATH = \"../data/SmartSPIM_631680_2022-09-09_13-52-33_stitched_2022-11-10_17-18-18/processed/OMEZarr/Ex_647_Em_690.zarr\"\n",
    "SAMPLE_ID = int(SOURCE_IMAGE_INPUT_FILEPATH.split(\"_\")[1])\n",
    "SAMPLE_CHANNEL = SOURCE_IMAGE_INPUT_FILEPATH.split(\"/\")[-1].split(\".zarr\")[0]\n",
    "SAMPLE_NAME = f\"{SAMPLE_ID}_{SAMPLE_CHANNEL}\"\n",
    "\n",
    "# Also available at http://download.alleninstitute.org/informatics-archive/converted_mouse_ccf/average_template/\n",
    "TARGET_IMAGE_INPUT_FILEPATH = (\n",
    "    \"../data/allen_mouse_ccf/average_template/average_template_25.nii.gz\"\n",
    ")"
   ]
  },
  {
   "cell_type": "code",
   "execution_count": 3,
   "id": "048bf52f",
   "metadata": {},
   "outputs": [],
   "source": [
    "INPUT_POINT_DATA_FILENAME = (\n",
    "    \"../data/demo_point_annotation_631680/631680_Caudoputamen.mrk.json\"\n",
    ")\n",
    "\n",
    "TRANSFORMS_PATH = f\"../data/demo_registration_results_631680\"\n",
    "N_ELASTIX_STAGES = 3\n",
    "ITK_TRANSFORM_FILENAME = f\"{TRANSFORMS_PATH}/init-transform.hdf5\"\n",
    "ELASTIX_TRANSFORM_FILENAMES = [\n",
    "    f\"{TRANSFORMS_PATH}/elastix-transform{index}.txt\"\n",
    "    for index in range(N_ELASTIX_STAGES)\n",
    "]\n",
    "\n",
    "RESULTS_PATH = f\"../results/{SAMPLE_NAME}\"\n",
    "TRANSFORMIX_POINTSET_FILE = f\"{RESULTS_PATH}/transformix_input_points.txt\"\n",
    "\n",
    "# Transformix will write results to RESULTS_PATH/outputpoints.txt"
   ]
  },
  {
   "cell_type": "markdown",
   "id": "87136a3b",
   "metadata": {},
   "source": [
    "## Load Points\n",
    "\n",
    "Load a collection of points annotated in 3D Slicer and stored in 3D Slicer's point list markups JSON format."
   ]
  },
  {
   "cell_type": "code",
   "execution_count": 4,
   "id": "a94ed971",
   "metadata": {},
   "outputs": [],
   "source": [
    "with open(INPUT_POINT_DATA_FILENAME) as f:\n",
    "    points_markup = json.load(f)"
   ]
  },
  {
   "cell_type": "code",
   "execution_count": 5,
   "id": "71db8598",
   "metadata": {},
   "outputs": [
    {
     "name": "stderr",
     "output_type": "stream",
     "text": [
      "\u001b[2000D\u001b[KLoading ITKPyBase... \u001b[2000D\u001b[KLoading ITKPyBase... \u001b[2000D\u001b[K\u001b[2000D\u001b[KLoading ITKCommon... "
     ]
    },
    {
     "name": "stdout",
     "output_type": "stream",
     "text": [
      "itkPointF3 ([8.46357, 9.5616, 5.61258])\n",
      "PointSet (0x55aba8f6dda0)\n",
      "  RTTI typeinfo:   itk::PointSet<float, 3u, itk::DefaultStaticMeshTraits<float, 3u, 3u, float, float, float> >\n",
      "  Reference Count: 1\n",
      "  Modified Time: 4\n",
      "  Debug: Off\n",
      "  Object Name: \n",
      "  Observers: \n",
      "    ProgressEvent(PyCommand)\n",
      "  Source: (none)\n",
      "  Source output name: (none)\n",
      "  Release Data: Off\n",
      "  Data Released: False\n",
      "  Global Release Data: Off\n",
      "  PipelineMTime: 0\n",
      "  UpdateMTime: 0\n",
      "  RealTimeStamp: 0 seconds \n",
      "  Number Of Points: 53\n",
      "  Requested Number Of Regions: 0\n",
      "  Requested Region: -1\n",
      "  Buffered Region: -1\n",
      "  Maximum Number Of Regions: 1\n",
      "  Point Data Container pointer: 0\n",
      "  Size of Point Data Container: 0\n",
      "\n"
     ]
    },
    {
     "name": "stderr",
     "output_type": "stream",
     "text": [
      "\u001b[2000D\u001b[KLoading ITKCommon... \u001b[2000D\u001b[K\u001b[2000D\u001b[KLoading ITKPyUtils... \u001b[2000D\u001b[KLoading ITKPyUtils... \u001b[2000D\u001b[K"
     ]
    }
   ],
   "source": [
    "input_points = itk.PointSet[itk.F, 3].New()\n",
    "\n",
    "for point_id, point in enumerate(points_markup[\"markups\"][0][\"controlPoints\"]):\n",
    "    input_points.GetPoints().InsertElement(point_id, point[\"position\"])\n",
    "\n",
    "print(input_points.GetPoint(0))\n",
    "print(input_points)"
   ]
  },
  {
   "cell_type": "markdown",
   "id": "723f320d",
   "metadata": {},
   "source": [
    "## Apply Initial Transform\n",
    "\n",
    "An initial transform coarsely aligns the source image into the target CCF image space. The initial transform is in ITK transform format and should be applied using ITK."
   ]
  },
  {
   "cell_type": "code",
   "execution_count": 6,
   "id": "73a4a7d5",
   "metadata": {},
   "outputs": [
    {
     "name": "stderr",
     "output_type": "stream",
     "text": [
      "\u001b[2000D\u001b[KLoading ITKStatistics... \u001b[2000D\u001b[KLoading ITKStatistics... \u001b[2000D\u001b[K\u001b[2000D\u001b[KLoading ITKImageFilterBase... \u001b[2000D\u001b[KLoading ITKImageFilterBase... \u001b[2000D\u001b[K\u001b[2000D\u001b[KLoading ITKTransform... \u001b[2000D\u001b[KLoading ITKTransform... \u001b[2000D\u001b[K\u001b[2000D\u001b[KLoading ITKImageSources... \u001b[2000D\u001b[KLoading ITKImageSources... \u001b[2000D\u001b[K\u001b[2000D\u001b[KLoading ITKImageFunction... \u001b[2000D\u001b[KLoading ITKImageFunction... \u001b[2000D\u001b[K\u001b[2000D\u001b[KLoading ITKImageGrid... \u001b[2000D\u001b[KLoading ITKImageGrid... \u001b[2000D\u001b[K\u001b[2000D\u001b[KLoading ITKFFT... \u001b[2000D\u001b[KLoading ITKFFT... \u001b[2000D\u001b[K\u001b[2000D\u001b[KLoading ITKMesh... \u001b[2000D\u001b[KLoading ITKMesh... \u001b[2000D\u001b[K\u001b[2000D\u001b[KLoading ITKSpatialObjects... \u001b[2000D\u001b[KLoading ITKSpatialObjects... \u001b[2000D\u001b[K\u001b[2000D\u001b[KLoading ITKImageCompose... \u001b[2000D\u001b[KLoading ITKImageCompose... \u001b[2000D\u001b[K\u001b[2000D\u001b[KLoading ITKImageStatistics... \u001b[2000D\u001b[KLoading ITKImageStatistics... \u001b[2000D\u001b[K\u001b[2000D\u001b[KLoading ITKPath... \u001b[2000D\u001b[KLoading ITKPath... \u001b[2000D\u001b[K\u001b[2000D\u001b[KLoading ITKImageIntensity... \u001b[2000D\u001b[KLoading ITKImageIntensity... \u001b[2000D\u001b[K\u001b[2000D\u001b[KLoading ITKThresholding... \u001b[2000D\u001b[KLoading ITKThresholding... \u001b[2000D\u001b[K\u001b[2000D\u001b[KLoading ITKConvolution... \u001b[2000D\u001b[KLoading ITKConvolution... \u001b[2000D\u001b[K\u001b[2000D\u001b[KLoading ITKSmoothing... "
     ]
    },
    {
     "name": "stdout",
     "output_type": "stream",
     "text": [
      "VersorRigid3DTransform (0x55aba8588e60)\n",
      "  RTTI typeinfo:   itk::VersorRigid3DTransform<double>\n",
      "  Reference Count: 2\n",
      "  Modified Time: 647\n",
      "  Debug: Off\n",
      "  Object Name: \n",
      "  Observers: \n",
      "    none\n",
      "  Matrix: \n",
      "    1 0 0 \n",
      "    0 1 0 \n",
      "    0 0 1 \n",
      "  Offset: [-12.3259, -2.6141, -8.1635]\n",
      "  Center: [6.6384, 9.2016, 4.176]\n",
      "  Translation: [-12.3259, -2.6141, -8.1635]\n",
      "  Inverse: \n",
      "    1 0 0 \n",
      "    0 1 0 \n",
      "    0 0 1 \n",
      "  Singular: 0\n",
      "  Versor: [ 0, 0, 0, 1 ]\n",
      "\n"
     ]
    },
    {
     "name": "stderr",
     "output_type": "stream",
     "text": [
      "\u001b[2000D\u001b[KLoading ITKSmoothing... \u001b[2000D\u001b[K\u001b[2000D\u001b[KLoading ITKDisplacementField... \u001b[2000D\u001b[KLoading ITKDisplacementField... \u001b[2000D\u001b[K\u001b[2000D\u001b[KLoading ITKIOTransformBase... \u001b[2000D\u001b[KLoading ITKIOTransformHDF5... \u001b[2000D\u001b[KLoading ITKIOTransformHDF5... \u001b[2000D\u001b[K\u001b[2000D\u001b[KLoading ITKIOTransformInsightLegacy... \u001b[2000D\u001b[KLoading ITKIOTransformInsightLegacy... \u001b[2000D\u001b[K\u001b[2000D\u001b[KLoading ITKIOTransformMatlab... \u001b[2000D\u001b[KLoading ITKIOTransformMatlab... \u001b[2000D\u001b[K\u001b[2000D\u001b[KLoading ITKIOTransformBase... \u001b[2000D\u001b[K"
     ]
    }
   ],
   "source": [
    "init_transform = itk.transformread(ITK_TRANSFORM_FILENAME)[0]\n",
    "print(init_transform)"
   ]
  },
  {
   "cell_type": "code",
   "execution_count": 7,
   "id": "b5a31fea",
   "metadata": {
    "scrolled": true
   },
   "outputs": [
    {
     "name": "stdout",
     "output_type": "stream",
     "text": [
      "itkPointF3 ([8.46357, 9.5616, 5.61258]) -> itkPointF3 ([-3.86233, 6.9475, -2.55092])\n",
      "itkPointF3 ([9.42914, 9.5616, 5.32998]) -> itkPointF3 ([-2.89676, 6.9475, -2.83352])\n",
      "itkPointF3 ([10.277, 9.5616, 4.3173]) -> itkPointF3 ([-2.04894, 6.9475, -3.8462])\n",
      "itkPointF3 ([10.3712, 9.5616, 2.76297]) -> itkPointF3 ([-1.95474, 6.9475, -5.40053])\n",
      "itkPointF3 ([8.39292, 9.5616, 4.43506]) -> itkPointF3 ([-3.93298, 6.9475, -3.72844])\n",
      "itkPointF3 ([8.98168, 9.5616, 3.56369]) -> itkPointF3 ([-3.34422, 6.9475, -4.59981])\n",
      "itkPointF3 ([9.12298, 9.5616, 2.50391]) -> itkPointF3 ([-3.20292, 6.9475, -5.65959])\n",
      "itkPointF3 ([8.39292, 9.1584, 5.70679]) -> itkPointF3 ([-3.93298, 6.5443, -2.45671])\n",
      "itkPointF3 ([9.85305, 9.1584, 4.90607]) -> itkPointF3 ([-2.47285, 6.5443, -3.25743])\n",
      "itkPointF3 ([10.3476, 9.1584, 3.18688]) -> itkPointF3 ([-1.97829, 6.5443, -4.97662])\n",
      "itkPointF3 ([9.61755, 9.1584, 2.1742]) -> itkPointF3 ([-2.70835, 6.5443, -5.9893])\n",
      "itkPointF3 ([7.89836, 9.1584, 4.19955]) -> itkPointF3 ([-4.42754, 6.5443, -3.96395])\n",
      "itkPointF3 ([8.74618, 9.1584, 2.76297]) -> itkPointF3 ([-3.57972, 6.5443, -5.40053])\n",
      "itkPointF3 ([8.58132, 8.496, 5.35353]) -> itkPointF3 ([-3.74458, 5.8819, -2.80997])\n",
      "itkPointF3 ([9.8766, 8.496, 4.38796]) -> itkPointF3 ([-2.4493, 5.8819, -3.77554])\n",
      "itkPointF3 ([9.75885, 8.496, 2.69231]) -> itkPointF3 ([-2.56705, 5.8819, -5.47119])\n",
      "itkPointF3 ([7.42734, 8.496, 4.67056]) -> itkPointF3 ([-4.89856, 5.8819, -3.49294])\n",
      "itkPointF3 ([7.85125, 8.496, 3.04557]) -> itkPointF3 ([-4.47465, 5.8819, -5.11793])\n",
      "itkPointF3 ([8.4937, 7.29434, 3.136]) -> itkPointF3 ([-3.8322, 4.68024, -5.0275])\n",
      "itkPointF3 ([10.0586, 8.43632, 3.136]) -> itkPointF3 ([-2.26726, 5.82222, -5.0275])\n",
      "itkPointF3 ([10.4816, 9.78977, 3.136]) -> itkPointF3 ([-1.84431, 7.17567, -5.0275])\n",
      "itkPointF3 ([9.67798, 10.9952, 3.136]) -> itkPointF3 ([-2.64792, 8.38109, -5.0275])\n",
      "itkPointF3 ([7.30943, 7.80188, 3.136]) -> itkPointF3 ([-5.01647, 5.18778, -5.0275])\n",
      "itkPointF3 ([8.62059, 9.26108, 3.136]) -> itkPointF3 ([-3.70531, 6.64698, -5.0275])\n",
      "itkPointF3 ([8.9801, 7.54811, 4.352]) -> itkPointF3 ([-3.3458, 4.93401, -3.8115])\n",
      "itkPointF3 ([7.71124, 7.29434, 4.352]) -> itkPointF3 ([-4.61466, 4.68024, -3.8115])\n",
      "itkPointF3 ([7.41934, 8.69503, 4.352]) -> itkPointF3 ([-4.90656, 6.08094, -3.8115])\n",
      "itkPointF3 ([9.27513, 10.2134, 4.352]) -> itkPointF3 ([-3.05077, 7.59931, -3.8115])\n",
      "itkPointF3 ([10.0132, 8.58959, 4.352]) -> itkPointF3 ([-2.31267, 5.97549, -3.8115])\n",
      "itkPointF3 ([10.8357, 11.6685, 4.352]) -> itkPointF3 ([-1.49022, 9.05442, -3.8115])\n",
      "itkPointF3 ([10.435, 9.91817, 4.352]) -> itkPointF3 ([-1.8909, 7.30407, -3.8115])\n",
      "itkPointF3 ([8.17853, 8.5685, 5.536]) -> itkPointF3 ([-4.14737, 5.9544, -2.6275])\n",
      "itkPointF3 ([9.40166, 10.5508, 5.536]) -> itkPointF3 ([-2.92424, 7.93672, -2.6275])\n",
      "itkPointF3 ([8.22071, 9.60184, 5.536]) -> itkPointF3 ([-4.10519, 6.98774, -2.6275])\n",
      "itkPointF3 ([9.00098, 9.55966, 5.536]) -> itkPointF3 ([-3.32492, 6.94556, -2.6275])\n",
      "itkPointF3 ([9.63364, 8.21, 4.512]) -> itkPointF3 ([-2.69226, 5.5959, -3.6515])\n",
      "itkPointF3 ([7.28829, 7.78076, 4.512]) -> itkPointF3 ([-5.03761, 5.16666, -3.6515])\n",
      "itkPointF3 ([9.19158, 10.6145, 4.512]) -> itkPointF3 ([-3.13432, 8.00043, -3.6515])\n",
      "itkPointF3 ([10.4181, 10.2762, 4.512]) -> itkPointF3 ([-1.90776, 7.66207, -3.6515])\n",
      "itkPointF3 ([7.94387, 9.55715, 4.512]) -> itkPointF3 ([-4.38203, 6.94305, -3.6515])\n",
      "itkPointF3 ([8.83207, 7.46354, 2.88]) -> itkPointF3 ([-3.49383, 4.84944, -5.2835])\n",
      "itkPointF3 ([6.92878, 7.73846, 2.88]) -> itkPointF3 ([-5.39712, 5.12436, -5.2835])\n",
      "itkPointF3 ([8.66289, 9.34568, 2.88]) -> itkPointF3 ([-3.66301, 6.73158, -5.2835])\n",
      "itkPointF3 ([10.4604, 10.2127, 2.88]) -> itkPointF3 ([-1.86547, 7.59863, -5.2835])\n",
      "itkPointF3 ([10.6296, 10.3185, 3.328]) -> itkPointF3 ([-1.69629, 7.70437, -4.8355])\n",
      "itkPointF3 ([9.25502, 7.78076, 3.328]) -> itkPointF3 ([-3.07088, 5.16666, -4.8355])\n",
      "itkPointF3 ([6.98687, 7.22189, 3.328]) -> itkPointF3 ([-5.33903, 4.60779, -4.8355])\n",
      "itkPointF3 ([8.21686, 9.21533, 3.328]) -> itkPointF3 ([-4.10904, 6.60123, -4.8355])\n",
      "itkPointF3 ([10.3375, 8.66395, 3.328]) -> itkPointF3 ([-1.98836, 6.04985, -4.8355])\n",
      "itkPointF3 ([9.44686, 10.0636, 3.328]) -> itkPointF3 ([-2.87904, 7.4495, -4.8355])\n",
      "itkPointF3 ([8.64, 8.20455, 5.2]) -> itkPointF3 ([-3.6859, 5.59045, -2.9635])\n",
      "itkPointF3 ([8.64, 7.23444, 3.71789]) -> itkPointF3 ([-3.6859, 4.62034, -4.44561])\n",
      "itkPointF3 ([8.64, 9.52497, 4.39158]) -> itkPointF3 ([-3.6859, 6.91087, -3.77192])\n"
     ]
    }
   ],
   "source": [
    "init_points = itk.PointSet[itk.F, 3].New()\n",
    "for idx in range(input_points.GetNumberOfPoints()):\n",
    "    point = input_points.GetPoint(idx)\n",
    "    init_points.GetPoints().InsertElement(\n",
    "        idx, init_transform.TransformPoint(point)\n",
    "    )\n",
    "    print(f\"{point} -> {init_points.GetPoint(idx)}\")"
   ]
  },
  {
   "cell_type": "markdown",
   "id": "e06eb115",
   "metadata": {},
   "source": [
    "## Apply Transformix\n",
    "\n",
    "Fine-grained image registration is carried out with ITKElastix and saved as sequential Elastix parameter files. Elastix transforms can be applied via `transformix` with the requirement that points to be transformed are in a specific input table format.\n",
    "\n",
    "See the ITKElastix [PointSetAndMaskTransformation](https://github.com/InsightSoftwareConsortium/ITKElastix/blob/main/examples/ITK_Example09_PointSetAndMaskTransformation.ipynb) example for more details on applying transforms to point sets with `transformix`."
   ]
  },
  {
   "cell_type": "code",
   "execution_count": 8,
   "id": "0677556c",
   "metadata": {},
   "outputs": [],
   "source": [
    "# Write initialized points to disk in required table format transformix to use\n",
    "\n",
    "os.makedirs(RESULTS_PATH, exist_ok=True)\n",
    "with open(TRANSFORMIX_POINTSET_FILE, \"w\") as f:\n",
    "    f.write(\"point\\n\")\n",
    "    f.write(f\"{init_points.GetNumberOfPoints()}\\n\")\n",
    "\n",
    "    for idx in range(init_points.GetNumberOfPoints()):\n",
    "        point = init_points.GetPoint(idx)\n",
    "        f.write(f\"{point[0]} {point[1]} {point[2]}\\n\")"
   ]
  },
  {
   "cell_type": "code",
   "execution_count": 9,
   "id": "101c489e",
   "metadata": {},
   "outputs": [
    {
     "name": "stderr",
     "output_type": "stream",
     "text": [
      "\u001b[2000D\u001b[KLoading ITKOptimizers... \u001b[2000D\u001b[KLoading ITKOptimizers... \u001b[2000D\u001b[K\u001b[2000D\u001b[KLoading ITKImageGradient... \u001b[2000D\u001b[KLoading ITKImageGradient... \u001b[2000D\u001b[K\u001b[2000D\u001b[KLoading ITKImageFeature... \u001b[2000D\u001b[KLoading ITKImageFeature... \u001b[2000D\u001b[K\u001b[2000D\u001b[KLoading ITKFiniteDifference... \u001b[2000D\u001b[KLoading ITKFiniteDifference... \u001b[2000D\u001b[K\u001b[2000D\u001b[KLoading ITKRegistrationCommon... \u001b[2000D\u001b[KLoading ITKRegistrationCommon... \u001b[2000D\u001b[K\u001b[2000D\u001b[KLoading ITKIOImageBase... \u001b[2000D\u001b[KLoading ITKIOBMP... \u001b[2000D\u001b[KLoading ITKIOBMP... \u001b[2000D\u001b[K\u001b[2000D\u001b[KLoading ITKIOBioRad... \u001b[2000D\u001b[KLoading ITKIOBioRad... \u001b[2000D\u001b[K\u001b[2000D\u001b[KLoading ITKIOBruker... \u001b[2000D\u001b[KLoading ITKIOBruker... \u001b[2000D\u001b[K\u001b[2000D\u001b[KLoading ITKIOGDCM... \u001b[2000D\u001b[KLoading ITKIOGDCM... \u001b[2000D\u001b[K\u001b[2000D\u001b[KLoading ITKIOIPL... \u001b[2000D\u001b[KLoading ITKIOIPL... \u001b[2000D\u001b[K\u001b[2000D\u001b[KLoading ITKIOGE... \u001b[2000D\u001b[KLoading ITKIOGE... \u001b[2000D\u001b[K\u001b[2000D\u001b[KLoading ITKIOGIPL... \u001b[2000D\u001b[KLoading ITKIOGIPL... \u001b[2000D\u001b[K\u001b[2000D\u001b[KLoading ITKIOHDF5... \u001b[2000D\u001b[KLoading ITKIOHDF5... \u001b[2000D\u001b[K\u001b[2000D\u001b[KLoading ITKIOJPEG... \u001b[2000D\u001b[KLoading ITKIOJPEG... \u001b[2000D\u001b[K\u001b[2000D\u001b[KLoading ITKIOJPEG2000... \u001b[2000D\u001b[KLoading ITKIOJPEG2000... \u001b[2000D\u001b[K\u001b[2000D\u001b[KLoading ITKIOTIFF... \u001b[2000D\u001b[KLoading ITKIOTIFF... \u001b[2000D\u001b[K\u001b[2000D\u001b[KLoading ITKIOLSM... \u001b[2000D\u001b[KLoading ITKIOLSM... \u001b[2000D\u001b[K\u001b[2000D\u001b[KLoading ITKIOMINC... \u001b[2000D\u001b[KLoading ITKIOMINC... \u001b[2000D\u001b[K\u001b[2000D\u001b[KLoading ITKIOMRC... \u001b[2000D\u001b[KLoading ITKIOMRC... \u001b[2000D\u001b[K\u001b[2000D\u001b[KLoading ITKIOMeta... \u001b[2000D\u001b[KLoading ITKIOMeta... \u001b[2000D\u001b[K\u001b[2000D\u001b[KLoading ITKIONIFTI... \u001b[2000D\u001b[KLoading ITKIONIFTI... \u001b[2000D\u001b[K\u001b[2000D\u001b[KLoading ITKIONRRD... \u001b[2000D\u001b[KLoading ITKIONRRD... \u001b[2000D\u001b[K\u001b[2000D\u001b[KLoading ITKIOPNG... \u001b[2000D\u001b[KLoading ITKIOPNG... \u001b[2000D\u001b[K\u001b[2000D\u001b[KLoading ITKIOStimulate... \u001b[2000D\u001b[KLoading ITKIOStimulate... \u001b[2000D\u001b[K\u001b[2000D\u001b[KLoading ITKIOVTK... \u001b[2000D\u001b[KLoading ITKIOVTK... \u001b[2000D\u001b[K\u001b[2000D\u001b[KLoading ITKIOImageBase... \u001b[2000D\u001b[K\u001b[2000D\u001b[KLoading ITKVoronoi... \u001b[2000D\u001b[KLoading ITKVoronoi... \u001b[2000D\u001b[K\u001b[2000D\u001b[KLoading ITKQuadEdgeMesh... \u001b[2000D\u001b[KLoading ITKQuadEdgeMesh... \u001b[2000D\u001b[K\u001b[2000D\u001b[KLoading ITKIOMeshBase... \u001b[2000D\u001b[KLoading ITKIOMeshBYU... \u001b[2000D\u001b[KLoading ITKIOMeshBYU... \u001b[2000D\u001b[K\u001b[2000D\u001b[KLoading ITKIOMeshFreeSurfer... \u001b[2000D\u001b[KLoading ITKIOMeshFreeSurfer... \u001b[2000D\u001b[K\u001b[2000D\u001b[KLoading ITKIOMeshGifti... \u001b[2000D\u001b[KLoading ITKIOMeshGifti... \u001b[2000D\u001b[K\u001b[2000D\u001b[KLoading ITKIOMeshOBJ... \u001b[2000D\u001b[KLoading ITKIOMeshOBJ... \u001b[2000D\u001b[K\u001b[2000D\u001b[KLoading ITKIOMeshOFF... \u001b[2000D\u001b[KLoading ITKIOMeshOFF... \u001b[2000D\u001b[K\u001b[2000D\u001b[KLoading ITKIOMeshVTK... \u001b[2000D\u001b[KLoading ITKIOMeshVTK... \u001b[2000D\u001b[K\u001b[2000D\u001b[KLoading ITKIOMeshBase... \u001b[2000D\u001b[K\u001b[2000D\u001b[KLoading Elastix... \u001b[2000D\u001b[KLoading Elastix... \u001b[2000D\u001b[K"
     ]
    }
   ],
   "source": [
    "# The number of parameter maps to use is fixed during registration.\n",
    "# Here we have used rigid, affine, and bspline stages in sequence.\n",
    "NUM_PARAMETER_MAPS = 3\n",
    "\n",
    "toplevel_param = itk.ParameterObject.New()\n",
    "param = itk.ParameterObject.New()\n",
    "\n",
    "for elastix_transform_filename in ELASTIX_TRANSFORM_FILENAMES:\n",
    "    param.ReadParameterFile(elastix_transform_filename)\n",
    "    toplevel_param.AddParameterMap(param.GetParameterMap(0))"
   ]
  },
  {
   "cell_type": "code",
   "execution_count": 10,
   "id": "cdc9d8f3",
   "metadata": {},
   "outputs": [
    {
     "name": "stderr",
     "output_type": "stream",
     "text": [
      "\u001b[2000D\u001b[KitkImageFileReaderIF3: 0.000000\u001b[2000D\u001b[KitkImageFileReaderIF3: 1.000000\u001b[2000D\u001b[K"
     ]
    }
   ],
   "source": [
    "# Load reference image (required for transformix)\n",
    "average_template = itk.imread(TARGET_IMAGE_INPUT_FILEPATH, pixel_type=itk.F)"
   ]
  },
  {
   "cell_type": "code",
   "execution_count": null,
   "id": "0851eea4",
   "metadata": {},
   "outputs": [],
   "source": [
    "# Procedural interface of transformix filter\n",
    "result_point_set = itk.transformix_pointset(\n",
    "    average_template,\n",
    "    toplevel_param,\n",
    "    fixed_point_set_file_name=TRANSFORMIX_POINTSET_FILE,\n",
    "    output_directory=RESULTS_PATH,\n",
    ")\n",
    "\n",
    "# Transformix will write results to RESULTS_PATH/outputpoints.txt"
   ]
  },
  {
   "cell_type": "code",
   "execution_count": null,
   "id": "5111a82c",
   "metadata": {
    "scrolled": true
   },
   "outputs": [],
   "source": [
    "print(\n",
    "    \"\\n\".join(\n",
    "        [\n",
    "            f\"{output_point[11:18]} -> {output_point[27:35]}\"\n",
    "            for output_point in result_point_set\n",
    "        ]\n",
    "    )\n",
    ")"
   ]
  }
 ],
 "metadata": {
  "kernelspec": {
   "display_name": "Python 3",
   "language": "python",
   "name": "python3"
  },
  "language_info": {
   "codemirror_mode": {
    "name": "ipython",
    "version": 3
   },
   "file_extension": ".py",
   "mimetype": "text/x-python",
   "name": "python",
   "nbconvert_exporter": "python",
   "pygments_lexer": "ipython3",
   "version": "3.8.5"
  }
 },
 "nbformat": 4,
 "nbformat_minor": 5
}
