{
 "cells": [
  {
   "cell_type": "markdown",
   "id": "b2382152",
   "metadata": {},
   "source": [
    "# Demo: Transform a Point Set from SmartSPIM to CCF Space\n",
    "\n",
    "## Overview\n",
    "\n",
    "This notebook demonstrates how to apply the transformation results from the `RegisterToCCF` reproducible pipeline notebook to point set data initially in correspondence with the input SmartSPIM image. The notebook can be run interactively in CodeOcean.\n",
    "\n",
    "## Inputs\n",
    "\n",
    "1. Source point set. Source data is assumed to be in correspondence with the input SmartSPIM image used in the `RegisterToCCF` notebook.\n",
    "\n",
    "![Point annotations on SmartSPIM input image](images/point-set-annotation.png)\n",
    "\n",
    "2. Transform stack results from `RegisterToCCF` notebook. This is a sequence of transforms mapping from SmartSPIM sample space to CCF atlas$^1$ space produced by the SmartSPIM to CCF registration pipeline.\n",
    "\n",
    "3. CCF atlas defining reference space for transformation.\n",
    "\n",
    "## Outputs\n",
    "\n",
    "1. Source point set resampled into CCF space.\n",
    "\n",
    "## Assumptions\n",
    "\n",
    "1. Source data initially exists in spatial alignment with the original stitched SmartSPIM image input. This can be confirmed with a spatial viewer such as ITKWidgets, Neuroglancer, or 3D Slicer.\n",
    "\n",
    "2. The `RegisterToCCF` notebook previously ran and produced output in the `../results` directory.\n",
    "\n",
    "## Procedure\n",
    "\n",
    "1. Data is read in from their respective stores attached via CodeOcean's data attachment mechanism.\n",
    "\n",
    "2. An initial translation is applied to coarsely superimpose the source point set on the target image.\n",
    "\n",
    "3. Transforms from Elastix registration output are employed to register points into CCF space.\n",
    "\n",
    "4. Results are written out.\n",
    "\n",
    "## References\n",
    "\n",
    "1. Quanxin Wang, Song-Lin Ding, Yang Li, Josh Royall, David Feng, Phil Lesnar, Nile Graddis, Maitham Naeemi, Benjamin Facer, Anh Ho, Tim Dolbeare, Brandon Blanchard, Nick Dee, Wayne Wakeman, Karla E. Hirokawa, Aaron Szafer, Susan M. Sunkin, Seung Wook Oh, Amy Bernard, John W. Phillips, Michael Hawrylycz, Christof Koch, Hongkui Zeng, Julie A. Harris, Lydia Ng,\n",
    "The Allen Mouse Brain Common Coordinate Framework: A 3D Reference Atlas, Cell, Volume 181, Issue 4, 2020, Pages 936-953.e20, ISSN 0092-8674, https://doi.org/10.1016/j.cell.2020.04.007"
   ]
  },
  {
   "cell_type": "code",
   "execution_count": 1,
   "id": "96f3e0c8",
   "metadata": {},
   "outputs": [],
   "source": [
    "import os\n",
    "import json\n",
    "\n",
    "from tqdm import tqdm\n",
    "import numpy as np\n",
    "import itk\n",
    "\n",
    "itk.auto_progress(1)"
   ]
  },
  {
   "cell_type": "code",
   "execution_count": 2,
   "id": "8ec3eb41",
   "metadata": {},
   "outputs": [],
   "source": [
    "SOURCE_IMAGE_INPUT_FILEPATH = \"../data/SmartSPIM_631680_2022-09-09_13-52-33_stitched_2022-11-10_17-18-18/processed/OMEZarr/Ex_647_Em_690.zarr\"\n",
    "SAMPLE_ID = int(SOURCE_IMAGE_INPUT_FILEPATH.split(\"_\")[1])\n",
    "SAMPLE_CHANNEL = SOURCE_IMAGE_INPUT_FILEPATH.split(\"/\")[-1].split(\".zarr\")[0]\n",
    "SAMPLE_NAME = f\"{SAMPLE_ID}_{SAMPLE_CHANNEL}\"\n",
    "\n",
    "# Also available at http://download.alleninstitute.org/informatics-archive/converted_mouse_ccf/average_template/\n",
    "TARGET_IMAGE_INPUT_FILEPATH = (\n",
    "    \"../data/allen_mouse_ccf/average_template/average_template_25.nii.gz\"\n",
    ")"
   ]
  },
  {
   "cell_type": "code",
   "execution_count": 3,
   "id": "048bf52f",
   "metadata": {},
   "outputs": [],
   "source": [
    "INPUT_POINT_DATA_FILENAME = (\n",
    "    \"../data/demo_point_annotation_631680/631680_Caudoputamen.mrk.json\"\n",
    ")\n",
    "\n",
    "TRANSFORMS_PATH = f\"../data/demo_registration_results_631680\"\n",
    "N_ELASTIX_STAGES = 3\n",
    "ITK_TRANSFORM_FILENAME = f\"{TRANSFORMS_PATH}/init-transform.hdf5\"\n",
    "ELASTIX_TRANSFORM_FILENAMES = [\n",
    "    f\"{TRANSFORMS_PATH}/elastix-transform{index}.txt\"\n",
    "    for index in range(N_ELASTIX_STAGES)\n",
    "]\n",
    "\n",
    "RESULTS_PATH = f\"../results/{SAMPLE_NAME}\"\n",
    "TRANSFORMIX_POINTSET_FILE = f\"{RESULTS_PATH}/transformix_input_points.txt\"\n",
    "\n",
    "# Transformix will write results to RESULTS_PATH/outputpoints.txt"
   ]
  },
  {
   "cell_type": "markdown",
   "id": "87136a3b",
   "metadata": {},
   "source": [
    "## Load Points\n",
    "\n",
    "Load a table of points that were marked up in 3D Slicer. The `.txt` file is expected to be tab-delimited with columns matching 3D Slicer's table format."
   ]
  },
  {
   "cell_type": "code",
   "execution_count": 4,
   "id": "a94ed971",
   "metadata": {},
   "outputs": [],
   "source": [
    "with open(INPUT_POINT_DATA_FILENAME) as f:\n",
    "    points_markup = json.load(f)"
   ]
  },
  {
   "cell_type": "code",
   "execution_count": 5,
   "id": "71db8598",
   "metadata": {},
   "outputs": [
    {
     "name": "stderr",
     "output_type": "stream",
     "text": [
      "\u001b[2000D\u001b[KLoading ITKPyBase... \u001b[2000D\u001b[KLoading ITKPyBase... \u001b[2000D\u001b[K\u001b[2000D\u001b[KLoading ITKCommon... "
     ]
    },
    {
     "name": "stdout",
     "output_type": "stream",
     "text": [
      "itkPointF3 ([0.00846357, 0.0095616, 0.00561258])\n",
      "PointSet (0x55c8eb047ba0)\n",
      "  RTTI typeinfo:   itk::PointSet<float, 3u, itk::DefaultStaticMeshTraits<float, 3u, 3u, float, float, float> >\n",
      "  Reference Count: 1\n",
      "  Modified Time: 4\n",
      "  Debug: Off\n",
      "  Object Name: \n",
      "  Observers: \n",
      "    ProgressEvent(PyCommand)\n",
      "  Source: (none)\n",
      "  Source output name: (none)\n",
      "  Release Data: Off\n",
      "  Data Released: False\n",
      "  Global Release Data: Off\n",
      "  PipelineMTime: 0\n",
      "  UpdateMTime: 0\n",
      "  RealTimeStamp: 0 seconds \n",
      "  Number Of Points: 53\n",
      "  Requested Number Of Regions: 0\n",
      "  Requested Region: -1\n",
      "  Buffered Region: -1\n",
      "  Maximum Number Of Regions: 1\n",
      "  Point Data Container pointer: 0\n",
      "  Size of Point Data Container: 0\n",
      "\n"
     ]
    },
    {
     "name": "stderr",
     "output_type": "stream",
     "text": [
      "\u001b[2000D\u001b[KLoading ITKCommon... \u001b[2000D\u001b[K\u001b[2000D\u001b[KLoading ITKPyUtils... \u001b[2000D\u001b[KLoading ITKPyUtils... \u001b[2000D\u001b[K"
     ]
    }
   ],
   "source": [
    "input_points = itk.PointSet[itk.F, 3].New()\n",
    "\n",
    "for point_id, point in enumerate(points_markup[\"markups\"][0][\"controlPoints\"]):\n",
    "    point_3d = [point[\"position\"][dim] * 1e-3 for dim in range(3)]\n",
    "    input_points.GetPoints().InsertElement(point_id, point_3d)\n",
    "\n",
    "print(input_points.GetPoint(0))\n",
    "print(input_points)"
   ]
  },
  {
   "cell_type": "markdown",
   "id": "723f320d",
   "metadata": {},
   "source": [
    "## Apply Initial Transform\n",
    "\n",
    "An initial transform coarsely aligns the source image into the target CCF image space. The initial transform is in ITK transform format and should be applied using ITK."
   ]
  },
  {
   "cell_type": "code",
   "execution_count": 6,
   "id": "73a4a7d5",
   "metadata": {},
   "outputs": [
    {
     "name": "stderr",
     "output_type": "stream",
     "text": [
      "\u001b[2000D\u001b[KLoading ITKStatistics... \u001b[2000D\u001b[KLoading ITKStatistics... \u001b[2000D\u001b[K\u001b[2000D\u001b[KLoading ITKImageFilterBase... \u001b[2000D\u001b[KLoading ITKImageFilterBase... \u001b[2000D\u001b[K\u001b[2000D\u001b[KLoading ITKTransform... \u001b[2000D\u001b[KLoading ITKTransform... \u001b[2000D\u001b[K\u001b[2000D\u001b[KLoading ITKImageSources... \u001b[2000D\u001b[KLoading ITKImageSources... \u001b[2000D\u001b[K\u001b[2000D\u001b[KLoading ITKImageFunction... \u001b[2000D\u001b[KLoading ITKImageFunction... \u001b[2000D\u001b[K\u001b[2000D\u001b[KLoading ITKImageGrid... \u001b[2000D\u001b[KLoading ITKImageGrid... \u001b[2000D\u001b[K\u001b[2000D\u001b[KLoading ITKFFT... \u001b[2000D\u001b[KLoading ITKFFT... \u001b[2000D\u001b[K\u001b[2000D\u001b[KLoading ITKMesh... \u001b[2000D\u001b[KLoading ITKMesh... \u001b[2000D\u001b[K\u001b[2000D\u001b[KLoading ITKSpatialObjects... \u001b[2000D\u001b[KLoading ITKSpatialObjects... \u001b[2000D\u001b[K\u001b[2000D\u001b[KLoading ITKImageCompose... \u001b[2000D\u001b[KLoading ITKImageCompose... \u001b[2000D\u001b[K\u001b[2000D\u001b[KLoading ITKImageStatistics... \u001b[2000D\u001b[KLoading ITKImageStatistics... \u001b[2000D\u001b[K\u001b[2000D\u001b[KLoading ITKPath... \u001b[2000D\u001b[KLoading ITKPath... \u001b[2000D\u001b[K\u001b[2000D\u001b[KLoading ITKImageIntensity... \u001b[2000D\u001b[KLoading ITKImageIntensity... \u001b[2000D\u001b[K\u001b[2000D\u001b[KLoading ITKThresholding... \u001b[2000D\u001b[KLoading ITKThresholding... \u001b[2000D\u001b[K\u001b[2000D\u001b[KLoading ITKConvolution... \u001b[2000D\u001b[KLoading ITKConvolution... \u001b[2000D\u001b[K\u001b[2000D\u001b[KLoading ITKSmoothing... "
     ]
    },
    {
     "name": "stdout",
     "output_type": "stream",
     "text": [
      "VersorRigid3DTransform (0x55c8ea222e60)\n",
      "  RTTI typeinfo:   itk::VersorRigid3DTransform<double>\n",
      "  Reference Count: 2\n",
      "  Modified Time: 647\n",
      "  Debug: Off\n",
      "  Object Name: \n",
      "  Observers: \n",
      "    none\n",
      "  Matrix: \n",
      "    1 0 0 \n",
      "    0 1 0 \n",
      "    0 0 1 \n",
      "  Offset: [-12.3259, -2.6141, -8.1635]\n",
      "  Center: [6.6384, 9.2016, 4.176]\n",
      "  Translation: [-12.3259, -2.6141, -8.1635]\n",
      "  Inverse: \n",
      "    1 0 0 \n",
      "    0 1 0 \n",
      "    0 0 1 \n",
      "  Singular: 0\n",
      "  Versor: [ 0, 0, 0, 1 ]\n",
      "\n"
     ]
    },
    {
     "name": "stderr",
     "output_type": "stream",
     "text": [
      "\u001b[2000D\u001b[KLoading ITKSmoothing... \u001b[2000D\u001b[K\u001b[2000D\u001b[KLoading ITKDisplacementField... \u001b[2000D\u001b[KLoading ITKDisplacementField... \u001b[2000D\u001b[K\u001b[2000D\u001b[KLoading ITKIOTransformBase... \u001b[2000D\u001b[KLoading ITKIOTransformHDF5... \u001b[2000D\u001b[KLoading ITKIOTransformHDF5... \u001b[2000D\u001b[K\u001b[2000D\u001b[KLoading ITKIOTransformInsightLegacy... \u001b[2000D\u001b[KLoading ITKIOTransformInsightLegacy... \u001b[2000D\u001b[K\u001b[2000D\u001b[KLoading ITKIOTransformMatlab... \u001b[2000D\u001b[KLoading ITKIOTransformMatlab... \u001b[2000D\u001b[K\u001b[2000D\u001b[KLoading ITKIOTransformBase... \u001b[2000D\u001b[K"
     ]
    }
   ],
   "source": [
    "init_transform = itk.transformread(ITK_TRANSFORM_FILENAME)[0]\n",
    "print(init_transform)"
   ]
  },
  {
   "cell_type": "code",
   "execution_count": 7,
   "id": "b5a31fea",
   "metadata": {
    "scrolled": true
   },
   "outputs": [
    {
     "name": "stdout",
     "output_type": "stream",
     "text": [
      "itkPointF3 ([0.00846357, 0.0095616, 0.00561258]) -> itkPointF3 ([12.3344, 2.62366, 8.16911])\n",
      "itkPointF3 ([0.00942914, 0.0095616, 0.00532998]) -> itkPointF3 ([12.3353, 2.62366, 8.16883])\n",
      "itkPointF3 ([0.010277, 0.0095616, 0.0043173]) -> itkPointF3 ([12.3362, 2.62366, 8.16782])\n",
      "itkPointF3 ([0.0103712, 0.0095616, 0.00276297]) -> itkPointF3 ([12.3363, 2.62366, 8.16626])\n",
      "itkPointF3 ([0.00839292, 0.0095616, 0.00443506]) -> itkPointF3 ([12.3343, 2.62366, 8.16794])\n",
      "itkPointF3 ([0.00898168, 0.0095616, 0.00356369]) -> itkPointF3 ([12.3349, 2.62366, 8.16706])\n",
      "itkPointF3 ([0.00912298, 0.0095616, 0.00250391]) -> itkPointF3 ([12.335, 2.62366, 8.166])\n",
      "itkPointF3 ([0.00839292, 0.0091584, 0.00570679]) -> itkPointF3 ([12.3343, 2.62326, 8.16921])\n",
      "itkPointF3 ([0.00985305, 0.0091584, 0.00490607]) -> itkPointF3 ([12.3358, 2.62326, 8.16841])\n",
      "itkPointF3 ([0.0103476, 0.0091584, 0.00318688]) -> itkPointF3 ([12.3362, 2.62326, 8.16669])\n",
      "itkPointF3 ([0.00961755, 0.0091584, 0.0021742]) -> itkPointF3 ([12.3355, 2.62326, 8.16567])\n",
      "itkPointF3 ([0.00789836, 0.0091584, 0.00419955]) -> itkPointF3 ([12.3338, 2.62326, 8.1677])\n",
      "itkPointF3 ([0.00874618, 0.0091584, 0.00276297]) -> itkPointF3 ([12.3346, 2.62326, 8.16626])\n",
      "itkPointF3 ([0.00858132, 0.008496, 0.00535353]) -> itkPointF3 ([12.3345, 2.6226, 8.16885])\n",
      "itkPointF3 ([0.0098766, 0.008496, 0.00438796]) -> itkPointF3 ([12.3358, 2.6226, 8.16789])\n",
      "itkPointF3 ([0.00975885, 0.008496, 0.00269231]) -> itkPointF3 ([12.3357, 2.6226, 8.16619])\n",
      "itkPointF3 ([0.00742734, 0.008496, 0.00467056]) -> itkPointF3 ([12.3333, 2.6226, 8.16817])\n",
      "itkPointF3 ([0.00785125, 0.008496, 0.00304557]) -> itkPointF3 ([12.3338, 2.6226, 8.16655])\n",
      "itkPointF3 ([0.0084937, 0.00729434, 0.003136]) -> itkPointF3 ([12.3344, 2.62139, 8.16664])\n",
      "itkPointF3 ([0.0100586, 0.00843632, 0.003136]) -> itkPointF3 ([12.336, 2.62254, 8.16664])\n",
      "itkPointF3 ([0.0104816, 0.00978977, 0.003136]) -> itkPointF3 ([12.3364, 2.62389, 8.16664])\n",
      "itkPointF3 ([0.00967798, 0.0109952, 0.003136]) -> itkPointF3 ([12.3356, 2.6251, 8.16664])\n",
      "itkPointF3 ([0.00730943, 0.00780188, 0.003136]) -> itkPointF3 ([12.3332, 2.6219, 8.16664])\n",
      "itkPointF3 ([0.00862059, 0.00926108, 0.003136]) -> itkPointF3 ([12.3345, 2.62336, 8.16664])\n",
      "itkPointF3 ([0.0089801, 0.00754811, 0.004352]) -> itkPointF3 ([12.3349, 2.62165, 8.16785])\n",
      "itkPointF3 ([0.00771124, 0.00729434, 0.004352]) -> itkPointF3 ([12.3336, 2.62139, 8.16785])\n",
      "itkPointF3 ([0.00741934, 0.00869504, 0.004352]) -> itkPointF3 ([12.3333, 2.62279, 8.16785])\n",
      "itkPointF3 ([0.00927513, 0.0102134, 0.004352]) -> itkPointF3 ([12.3352, 2.62431, 8.16785])\n",
      "itkPointF3 ([0.0100132, 0.00858959, 0.004352]) -> itkPointF3 ([12.3359, 2.62269, 8.16785])\n",
      "itkPointF3 ([0.0108357, 0.0116685, 0.004352]) -> itkPointF3 ([12.3367, 2.62577, 8.16785])\n",
      "itkPointF3 ([0.010435, 0.00991817, 0.004352]) -> itkPointF3 ([12.3363, 2.62402, 8.16785])\n",
      "itkPointF3 ([0.00817853, 0.0085685, 0.005536]) -> itkPointF3 ([12.3341, 2.62267, 8.16904])\n",
      "itkPointF3 ([0.00940166, 0.0105508, 0.005536]) -> itkPointF3 ([12.3353, 2.62465, 8.16904])\n",
      "itkPointF3 ([0.00822071, 0.00960184, 0.005536]) -> itkPointF3 ([12.3341, 2.6237, 8.16904])\n",
      "itkPointF3 ([0.00900098, 0.00955966, 0.005536]) -> itkPointF3 ([12.3349, 2.62366, 8.16904])\n",
      "itkPointF3 ([0.00963364, 0.00821, 0.004512]) -> itkPointF3 ([12.3355, 2.62231, 8.16801])\n",
      "itkPointF3 ([0.00728829, 0.00778076, 0.004512]) -> itkPointF3 ([12.3332, 2.62188, 8.16801])\n",
      "itkPointF3 ([0.00919158, 0.0106145, 0.004512]) -> itkPointF3 ([12.3351, 2.62471, 8.16801])\n",
      "itkPointF3 ([0.0104181, 0.0102762, 0.004512]) -> itkPointF3 ([12.3363, 2.62438, 8.16801])\n",
      "itkPointF3 ([0.00794387, 0.00955715, 0.004512]) -> itkPointF3 ([12.3338, 2.62366, 8.16801])\n",
      "itkPointF3 ([0.00883207, 0.00746354, 0.00288]) -> itkPointF3 ([12.3347, 2.62156, 8.16638])\n",
      "itkPointF3 ([0.00692878, 0.00773846, 0.00288]) -> itkPointF3 ([12.3328, 2.62184, 8.16638])\n",
      "itkPointF3 ([0.00866289, 0.00934568, 0.00288]) -> itkPointF3 ([12.3346, 2.62345, 8.16638])\n",
      "itkPointF3 ([0.0104604, 0.0102127, 0.00288]) -> itkPointF3 ([12.3364, 2.62431, 8.16638])\n",
      "itkPointF3 ([0.0106296, 0.0103185, 0.003328]) -> itkPointF3 ([12.3365, 2.62442, 8.16683])\n",
      "itkPointF3 ([0.00925502, 0.00778076, 0.003328]) -> itkPointF3 ([12.3352, 2.62188, 8.16683])\n",
      "itkPointF3 ([0.00698687, 0.00722189, 0.003328]) -> itkPointF3 ([12.3329, 2.62132, 8.16683])\n",
      "itkPointF3 ([0.00821686, 0.00921533, 0.003328]) -> itkPointF3 ([12.3341, 2.62332, 8.16683])\n",
      "itkPointF3 ([0.0103375, 0.00866395, 0.003328]) -> itkPointF3 ([12.3362, 2.62276, 8.16683])\n",
      "itkPointF3 ([0.00944686, 0.0100636, 0.003328]) -> itkPointF3 ([12.3353, 2.62416, 8.16683])\n",
      "itkPointF3 ([0.00864, 0.00820455, 0.0052]) -> itkPointF3 ([12.3345, 2.6223, 8.1687])\n",
      "itkPointF3 ([0.00864, 0.00723444, 0.00371789]) -> itkPointF3 ([12.3345, 2.62133, 8.16722])\n",
      "itkPointF3 ([0.00864, 0.00952497, 0.00439158]) -> itkPointF3 ([12.3345, 2.62362, 8.16789])\n"
     ]
    }
   ],
   "source": [
    "init_points = itk.PointSet[itk.F, 3].New()\n",
    "for idx in range(input_points.GetNumberOfPoints()):\n",
    "    point = input_points.GetPoint(idx)\n",
    "    init_points.GetPoints().InsertElement(\n",
    "        idx, init_transform.GetInverseTransform().TransformPoint(point)\n",
    "    )\n",
    "    print(f\"{point} -> {init_points.GetPoint(idx)}\")"
   ]
  },
  {
   "cell_type": "markdown",
   "id": "e06eb115",
   "metadata": {},
   "source": [
    "## Apply Transformix\n",
    "\n",
    "Fine-grained image registration is carried out with ITKElastix and saved as sequential Elastix parameter files. Elastix transforms can be applied via `transformix` with the requirement that points to be transformed are in a specific input table format.\n",
    "\n",
    "See the ITKElastix [PointSetAndMaskTransformation](https://github.com/InsightSoftwareConsortium/ITKElastix/blob/main/examples/ITK_Example09_PointSetAndMaskTransformation.ipynb) example for more details on applying transforms to point sets with `transformix`."
   ]
  },
  {
   "cell_type": "code",
   "execution_count": 8,
   "id": "0677556c",
   "metadata": {},
   "outputs": [],
   "source": [
    "# Write initialized points to disk in required table format transformix to use\n",
    "\n",
    "os.makedirs(RESULTS_PATH, exist_ok=True)\n",
    "with open(TRANSFORMIX_POINTSET_FILE, \"w\") as f:\n",
    "    f.write(\"point\\n\")\n",
    "    f.write(f\"{init_points.GetNumberOfPoints()}\\n\")\n",
    "\n",
    "    for idx in range(init_points.GetNumberOfPoints()):\n",
    "        point = init_points.GetPoint(idx)\n",
    "        f.write(f\"{point[0]} {point[1]} {point[2]}\\n\")"
   ]
  },
  {
   "cell_type": "code",
   "execution_count": 9,
   "id": "101c489e",
   "metadata": {},
   "outputs": [
    {
     "name": "stderr",
     "output_type": "stream",
     "text": [
      "\u001b[2000D\u001b[KLoading ITKOptimizers... \u001b[2000D\u001b[KLoading ITKOptimizers... \u001b[2000D\u001b[K\u001b[2000D\u001b[KLoading ITKImageGradient... \u001b[2000D\u001b[KLoading ITKImageGradient... \u001b[2000D\u001b[K\u001b[2000D\u001b[KLoading ITKImageFeature... \u001b[2000D\u001b[KLoading ITKImageFeature... \u001b[2000D\u001b[K\u001b[2000D\u001b[KLoading ITKFiniteDifference... \u001b[2000D\u001b[KLoading ITKFiniteDifference... \u001b[2000D\u001b[K\u001b[2000D\u001b[KLoading ITKRegistrationCommon... \u001b[2000D\u001b[KLoading ITKRegistrationCommon... \u001b[2000D\u001b[K\u001b[2000D\u001b[KLoading ITKIOImageBase... \u001b[2000D\u001b[KLoading ITKIOBMP... \u001b[2000D\u001b[KLoading ITKIOBMP... \u001b[2000D\u001b[K\u001b[2000D\u001b[KLoading ITKIOBioRad... \u001b[2000D\u001b[KLoading ITKIOBioRad... \u001b[2000D\u001b[K\u001b[2000D\u001b[KLoading ITKIOBruker... \u001b[2000D\u001b[KLoading ITKIOBruker... \u001b[2000D\u001b[K\u001b[2000D\u001b[KLoading ITKIOGDCM... \u001b[2000D\u001b[KLoading ITKIOGDCM... \u001b[2000D\u001b[K\u001b[2000D\u001b[KLoading ITKIOIPL... \u001b[2000D\u001b[KLoading ITKIOIPL... \u001b[2000D\u001b[K\u001b[2000D\u001b[KLoading ITKIOGE... \u001b[2000D\u001b[KLoading ITKIOGE... \u001b[2000D\u001b[K\u001b[2000D\u001b[KLoading ITKIOGIPL... \u001b[2000D\u001b[KLoading ITKIOGIPL... \u001b[2000D\u001b[K\u001b[2000D\u001b[KLoading ITKIOHDF5... \u001b[2000D\u001b[KLoading ITKIOHDF5... \u001b[2000D\u001b[K\u001b[2000D\u001b[KLoading ITKIOJPEG... \u001b[2000D\u001b[KLoading ITKIOJPEG... \u001b[2000D\u001b[K\u001b[2000D\u001b[KLoading ITKIOJPEG2000... \u001b[2000D\u001b[KLoading ITKIOJPEG2000... \u001b[2000D\u001b[K\u001b[2000D\u001b[KLoading ITKIOTIFF... \u001b[2000D\u001b[KLoading ITKIOTIFF... \u001b[2000D\u001b[K\u001b[2000D\u001b[KLoading ITKIOLSM... \u001b[2000D\u001b[KLoading ITKIOLSM... \u001b[2000D\u001b[K\u001b[2000D\u001b[KLoading ITKIOMINC... \u001b[2000D\u001b[KLoading ITKIOMINC... \u001b[2000D\u001b[K\u001b[2000D\u001b[KLoading ITKIOMRC... \u001b[2000D\u001b[KLoading ITKIOMRC... \u001b[2000D\u001b[K\u001b[2000D\u001b[KLoading ITKIOMeta... \u001b[2000D\u001b[KLoading ITKIOMeta... \u001b[2000D\u001b[K\u001b[2000D\u001b[KLoading ITKIONIFTI... \u001b[2000D\u001b[KLoading ITKIONIFTI... \u001b[2000D\u001b[K\u001b[2000D\u001b[KLoading ITKIONRRD... \u001b[2000D\u001b[KLoading ITKIONRRD... \u001b[2000D\u001b[K\u001b[2000D\u001b[KLoading ITKIOPNG... \u001b[2000D\u001b[KLoading ITKIOPNG... \u001b[2000D\u001b[K\u001b[2000D\u001b[KLoading ITKIOStimulate... \u001b[2000D\u001b[KLoading ITKIOStimulate... \u001b[2000D\u001b[K\u001b[2000D\u001b[KLoading ITKIOVTK... \u001b[2000D\u001b[KLoading ITKIOVTK... \u001b[2000D\u001b[K\u001b[2000D\u001b[KLoading ITKIOImageBase... \u001b[2000D\u001b[K\u001b[2000D\u001b[KLoading ITKVoronoi... \u001b[2000D\u001b[KLoading ITKVoronoi... \u001b[2000D\u001b[K\u001b[2000D\u001b[KLoading ITKQuadEdgeMesh... \u001b[2000D\u001b[KLoading ITKQuadEdgeMesh... \u001b[2000D\u001b[K\u001b[2000D\u001b[KLoading ITKIOMeshBase... \u001b[2000D\u001b[KLoading ITKIOMeshBYU... \u001b[2000D\u001b[KLoading ITKIOMeshBYU... \u001b[2000D\u001b[K\u001b[2000D\u001b[KLoading ITKIOMeshFreeSurfer... \u001b[2000D\u001b[KLoading ITKIOMeshFreeSurfer... \u001b[2000D\u001b[K\u001b[2000D\u001b[KLoading ITKIOMeshGifti... \u001b[2000D\u001b[KLoading ITKIOMeshGifti... \u001b[2000D\u001b[K\u001b[2000D\u001b[KLoading ITKIOMeshOBJ... \u001b[2000D\u001b[KLoading ITKIOMeshOBJ... \u001b[2000D\u001b[K\u001b[2000D\u001b[KLoading ITKIOMeshOFF... \u001b[2000D\u001b[KLoading ITKIOMeshOFF... \u001b[2000D\u001b[K\u001b[2000D\u001b[KLoading ITKIOMeshVTK... \u001b[2000D\u001b[KLoading ITKIOMeshVTK... \u001b[2000D\u001b[K\u001b[2000D\u001b[KLoading ITKIOMeshBase... \u001b[2000D\u001b[K\u001b[2000D\u001b[KLoading Elastix... \u001b[2000D\u001b[KLoading Elastix... \u001b[2000D\u001b[K"
     ]
    }
   ],
   "source": [
    "# The number of parameter maps to use is fixed during registration.\n",
    "# Here we have used rigid, affine, and bspline stages in sequence.\n",
    "NUM_PARAMETER_MAPS = 3\n",
    "\n",
    "toplevel_param = itk.ParameterObject.New()\n",
    "param = itk.ParameterObject.New()\n",
    "\n",
    "for elastix_transform_filename in ELASTIX_TRANSFORM_FILENAMES:\n",
    "    param.ReadParameterFile(elastix_transform_filename)\n",
    "    toplevel_param.AddParameterMap(param.GetParameterMap(0))"
   ]
  },
  {
   "cell_type": "code",
   "execution_count": 10,
   "id": "cdc9d8f3",
   "metadata": {},
   "outputs": [
    {
     "name": "stderr",
     "output_type": "stream",
     "text": [
      "\u001b[2000D\u001b[KitkImageFileReaderIF3: 0.000000\u001b[2000D\u001b[KitkImageFileReaderIF3: 1.000000\u001b[2000D\u001b[K"
     ]
    }
   ],
   "source": [
    "# Load reference image (required for transformix)\n",
    "average_template = itk.imread(TARGET_IMAGE_INPUT_FILEPATH, pixel_type=itk.F)"
   ]
  },
  {
   "cell_type": "code",
   "execution_count": null,
   "id": "0851eea4",
   "metadata": {},
   "outputs": [],
   "source": [
    "# Procedural interface of transformix filter\n",
    "result_point_set = itk.transformix_pointset(\n",
    "    average_template,\n",
    "    toplevel_param,\n",
    "    fixed_point_set_file_name=TRANSFORMIX_POINTSET_FILE,\n",
    "    output_directory=RESULTS_PATH,\n",
    ")\n",
    "\n",
    "# Transformix will write results to RESULTS_PATH/outputpoints.txt"
   ]
  },
  {
   "cell_type": "code",
   "execution_count": null,
   "id": "5111a82c",
   "metadata": {
    "scrolled": true
   },
   "outputs": [],
   "source": [
    "print(\n",
    "    \"\\n\".join(\n",
    "        [\n",
    "            f\"{output_point[11:18]} -> {output_point[27:35]}\"\n",
    "            for output_point in result_point_set\n",
    "        ]\n",
    "    )\n",
    ")"
   ]
  }
 ],
 "metadata": {
  "kernelspec": {
   "display_name": "Python 3",
   "language": "python",
   "name": "python3"
  },
  "language_info": {
   "codemirror_mode": {
    "name": "ipython",
    "version": 3
   },
   "file_extension": ".py",
   "mimetype": "text/x-python",
   "name": "python",
   "nbconvert_exporter": "python",
   "pygments_lexer": "ipython3",
   "version": "3.8.5"
  }
 },
 "nbformat": 4,
 "nbformat_minor": 5
}
